{
  "nbformat": 4,
  "nbformat_minor": 0,
  "metadata": {
    "colab": {
      "name": "Joan Machado - AG2.ipynb",
      "provenance": [],
      "collapsed_sections": [],
      "authorship_tag": "ABX9TyMYSv225E7RwlY3jnZk1EYf"
    },
    "kernelspec": {
      "name": "python3",
      "display_name": "Python 3"
    }
  },
  "cells": [
    {
      "cell_type": "code",
      "metadata": {
        "id": "aeR4dl4xCbmK",
        "colab_type": "code",
        "colab": {}
      },
      "source": [
        "# Nombre: Joan Alonzo Machado Domínguez\n",
        "# https://colab.research.google.com/drive/1-J4MSh4T9BQqRT-LwlLs-W3JNOC4C2sJ?usp=sharing\n",
        "# Actividad Guiada 2"
      ],
      "execution_count": null,
      "outputs": []
    },
    {
      "cell_type": "markdown",
      "metadata": {
        "id": "KdPWTO30dOWN",
        "colab_type": "text"
      },
      "source": [
        "Tecnica de programacion dinamica\n"
      ]
    },
    {
      "cell_type": "code",
      "metadata": {
        "id": "5VPVvnKfY4F0",
        "colab_type": "code",
        "colab": {}
      },
      "source": [
        "#Tecnica de programacion dinamica\n",
        "\n",
        "def Precios(TARIFAS):\n",
        "  #total de Nodos\n",
        "  N = len(TARIFAS[0])\n",
        "\n",
        "  #inicializacion de la tabla de precios\n",
        "  PRECIOS = [ [9999]*N for i in [9999]*N ]\n",
        "  RUTA = [ [\"\"]*N for i in [\"\"]*N ]\n",
        "\n",
        "  for i in range(N-1):\n",
        "    for j in range(i+1, N):\n",
        "      MIN = TARIFAS[i][j]\n",
        "      RUTA[i][j] = i\n",
        "\n",
        "      for k in range(i, j):\n",
        "        if PRECIOS[i][k] + TARIFAS[k][j] < MIN:\n",
        "          MIN = min(MIN, PRECIOS[i][k] + TARIFAS[k][j])\n",
        "          RUTA[i][j] = k\n",
        "          PRECIOS[i][j] = MIN\n",
        "\n",
        "  return PRECIOS, RUTA"
      ],
      "execution_count": null,
      "outputs": []
    },
    {
      "cell_type": "code",
      "metadata": {
        "id": "Lxq9cHyaZ1Wz",
        "colab_type": "code",
        "colab": {}
      },
      "source": [
        "#ruta con la mejor opcion intermedia para ir de un nodo a otro\n",
        "def calcular_ruta(RUTA, desde, hasta):\n",
        "  if desde==hasta:\n",
        "    return desde\n",
        "  else:\n",
        "    return str(calcular_ruta(RUTA, desde, RUTA[desde][hasta]) ) + ', ' + str(RUTA[desde][hasta])\n",
        "\n",
        "  print(\"\\nLa ruta es:\")\n",
        "  calcular(RUTA, 0, 6)"
      ],
      "execution_count": null,
      "outputs": []
    },
    {
      "cell_type": "markdown",
      "metadata": {
        "id": "UJxUQhAudG2z",
        "colab_type": "text"
      },
      "source": [
        "Ramificacion y poda\n",
        "\n"
      ]
    },
    {
      "cell_type": "code",
      "metadata": {
        "id": "-mCif99sax6Z",
        "colab_type": "code",
        "colab": {
          "base_uri": "https://localhost:8080/",
          "height": 34
        },
        "outputId": "eee8f764-8c2a-44f6-832e-d9ce2b4a7993"
      },
      "source": [
        "#ramificacion y poda\n",
        "COSTES = [[11, 12, 18, 40],[14, 15, 13, 22],[11, 17, 19, 23],[17, 14, 20, 28]]\n",
        "\n",
        "def valor(S, COSTES):\n",
        "  VALOR = 0\n",
        "  for i in range(len(S)):\n",
        "    VALOR += COSTES[S[i]][i]\n",
        "  return VALOR\n",
        "\n",
        "valor((0, 1, 2, 3), COSTES)"
      ],
      "execution_count": null,
      "outputs": [
        {
          "output_type": "execute_result",
          "data": {
            "text/plain": [
              "73"
            ]
          },
          "metadata": {
            "tags": []
          },
          "execution_count": 26
        }
      ]
    },
    {
      "cell_type": "code",
      "metadata": {
        "id": "5k9goeDebY9g",
        "colab_type": "code",
        "colab": {
          "base_uri": "https://localhost:8080/",
          "height": 34
        },
        "outputId": "fd0663d6-f335-48fe-8b52-1120950a8ab6"
      },
      "source": [
        "import itertools\n",
        "from itertools import permutations\n",
        "\n",
        "#fuerza bruta\n",
        "#calcular_tiempo\n",
        "def fuerza_bruta(COSTES):\n",
        "  #representacion de la solucion sera una tupla donde cada valor en la coordenada i-sima es la tarea asignado al agente i\n",
        "  # ejemplo (1,2,3,4) tiene valor 11+15+19+28=73\n",
        "  # ¿cuantas posibilidades hay? n! -> complejidad factorial(exponencial)\n",
        "  # con dimiension 11 se va a l minuto ejecucion\n",
        "\n",
        "  mejor_valor = 10e10\n",
        "  mejor_solucion = ()\n",
        "\n",
        "  for s in list(itertools.permutations(range(len(COSTES)))):\n",
        "    #print(s, valor(s, COSTES))\n",
        "    valor_tmp = valor(s, COSTES)\n",
        "    if valor_tmp < mejor_valor:\n",
        "      mejor_valor = valor_tmp\n",
        "      mejor_solucion = s\n",
        "\n",
        "  print(\"la mejor solucion es: \"+ str(mejor_solucion) +\" con valor: \"+ str(mejor_valor))\n",
        "\n",
        "fuerza_bruta(COSTES)"
      ],
      "execution_count": null,
      "outputs": [
        {
          "output_type": "stream",
          "text": [
            "la mejor solucion es: (0, 3, 1, 2) con valor: 61\n"
          ],
          "name": "stdout"
        }
      ]
    },
    {
      "cell_type": "code",
      "metadata": {
        "id": "ibcUFtUAdbSP",
        "colab_type": "code",
        "colab": {
          "base_uri": "https://localhost:8080/",
          "height": 34
        },
        "outputId": "a83a814a-3e10-4286-803c-6862caaf3cf9"
      },
      "source": [
        "#funcion para estimar una cota inferior para una solucion parcial\n",
        "#costo inferior para soluciones parciales\n",
        "#(1, 3, )se asigna la tarea 1 al agente 0 y la tarea 3 al agente 1\n",
        "\n",
        "def CI(S, COSTES):\n",
        "  VALOR=0\n",
        "  #Valores establecidos\n",
        "  for i in range(len(S)):\n",
        "    VALOR+=COSTES[i][S[i]]\n",
        "\n",
        "  #estimacion\n",
        "  for i in range(len(COSTES)):\n",
        "    if i not in S:\n",
        "      VALOR+=min([ COSTES[j][i] for j in range(len(S), len(COSTES)) ])\n",
        "  \n",
        "  return VALOR\n",
        "\n",
        "CI((2,0,), COSTES)"
      ],
      "execution_count": null,
      "outputs": [
        {
          "output_type": "execute_result",
          "data": {
            "text/plain": [
              "69"
            ]
          },
          "metadata": {
            "tags": []
          },
          "execution_count": 21
        }
      ]
    },
    {
      "cell_type": "code",
      "metadata": {
        "id": "w-ljZuoseaPA",
        "colab_type": "code",
        "colab": {}
      },
      "source": [
        "#funcion para ramificar\n",
        "\n",
        "#Genera tantos hijos como posibilidades haya para el siguiente elemento de la tupla\n",
        "#(0,) -> (0,1), (0,2), (0,3)\n",
        "\n",
        "def crear_hijos(NODO, N):\n",
        "  HIJOS = []\n",
        "  for i in range(N):\n",
        "    if i not in NODO:\n",
        "      HIJOS.append({ 's':NODO +(i,) })\n",
        "  return HIJOS"
      ],
      "execution_count": null,
      "outputs": []
    },
    {
      "cell_type": "code",
      "metadata": {
        "id": "Vj6K_de-xTAV",
        "colab_type": "code",
        "colab": {
          "base_uri": "https://localhost:8080/",
          "height": 34
        },
        "outputId": "80d95dd0-cdfa-47dc-e397-ad26edc70447"
      },
      "source": [
        "#calcular el tiempo\n",
        "\n",
        "def ramificacion_y_poda(COSTES):\n",
        "  #construccion iterativa de soluciones(arbol). En cada etapa asignamos un agente(ramas)\n",
        "  #nodos del grafo {s:(1,2),CI:3,CS:5}\n",
        "\n",
        "  DIMENSION = len(COSTES)\n",
        "  MEJOR_SOLUCION = tuple(i for i in range(len(COSTES)))\n",
        "  CotaSup = valor(MEJOR_SOLUCION, COSTES)\n",
        "\n",
        "  NODOS=[]\n",
        "  NODOS.append({ 's':(), 'ci':CI((),COSTES)})\n",
        "\n",
        "  iteracion = 0\n",
        "  while(len(NODOS) > 0):\n",
        "    iteracion+=1\n",
        "\n",
        "    nodo_prometedor = [min(NODOS, key=lambda x:x['ci'])][0]['s']\n",
        "\n",
        "    #ramificacion, se generan los hijos\n",
        "    HIJOS = [{'s':x['s'], 'ci':CI(x['s'], COSTES)} for x in crear_hijos(nodo_prometedor, DIMENSION)]\n",
        "\n",
        "    #revisamos la cota superior y nos quedamos con la mejor solucion si llegamos a una solucion final\n",
        "    NODO_FINAL = [x for x in HIJOS if len(x['s']) == DIMENSION]\n",
        "    if len(NODO_FINAL) > 0:\n",
        "      if NODO_FINAL[0]['ci'] < CotaSup:\n",
        "        CotaSup = NODO_FINAL[0]['ci']\n",
        "        MEJOR_SOLUCION = NODO_FINAL\n",
        "    \n",
        "    #poda\n",
        "    HIJOS = [x for x in HIJOS if x['ci'] < CotaSup]\n",
        "\n",
        "    #añadimos los hijos\n",
        "    NODOS.extend(HIJOS)\n",
        "\n",
        "    #eliminamos el nodo ramificado\n",
        "    NODOS = [x for x in NODOS if x['s'] != nodo_prometedor]\n",
        "\n",
        "  print(\"la solucion final es: \"+ str(MEJOR_SOLUCION) + \" en \"+ str(iteracion) + \"iteraciones, para dimension: \"+ str(DIMENSION))\n",
        "\n",
        "ramificacion_y_poda(COSTES)"
      ],
      "execution_count": null,
      "outputs": [
        {
          "output_type": "stream",
          "text": [
            "la solucion final es: [{'s': (0, 2, 3, 1), 'ci': 61}] en 14iteraciones, para dimension: 4\n"
          ],
          "name": "stdout"
        }
      ]
    },
    {
      "cell_type": "markdown",
      "metadata": {
        "id": "bsrk1xX10uu5",
        "colab_type": "text"
      },
      "source": [
        "#### Actividad Individual\n",
        "\n",
        "- ¿Que complejidad tiene el algoritmo por fuerza bruta?\n",
        "- Generar matrices con valores aleatorios de mayores dimensiones (5,6,7...) y ejecutar ambos algoritmos\n",
        "- ¿A partir de que dimensión el algoritmo por fuerza bruta deja de ser una opción?\n",
        "- ¿Hay algún valor de la dimensión a partir de la cual el algoritmo de ramificación y poda deja de ser una opción válida?"
      ]
    },
    {
      "cell_type": "code",
      "metadata": {
        "id": "n6v92EWF1OZU",
        "colab_type": "code",
        "colab": {}
      },
      "source": [
        ""
      ],
      "execution_count": null,
      "outputs": []
    }
  ]
}