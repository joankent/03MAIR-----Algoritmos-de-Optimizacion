{
  "nbformat": 4,
  "nbformat_minor": 0,
  "metadata": {
    "colab": {
      "name": "Joan Machado - AG3.ipynb",
      "provenance": [],
      "collapsed_sections": [],
      "authorship_tag": "ABX9TyNf/q52jn97wDoPr7OAX44a"
    },
    "kernelspec": {
      "name": "python3",
      "display_name": "Python 3"
    }
  },
  "cells": [
    {
      "cell_type": "code",
      "metadata": {
        "id": "A0hJXriQChAB",
        "colab_type": "code",
        "colab": {}
      },
      "source": [
        "# Nombre: Joan Alonzo Machado Domínguez\n",
        "# https://colab.research.google.com/drive/1KTqpB_1dycB0fNx6sBdd4RjOqEVHJ5kO?usp=sharing\n",
        "# Actividad Guiada 3"
      ],
      "execution_count": null,
      "outputs": []
    },
    {
      "cell_type": "code",
      "metadata": {
        "id": "qkgslCsDCycu",
        "colab_type": "code",
        "colab": {
          "base_uri": "https://localhost:8080/",
          "height": 34
        },
        "outputId": "556a9ed7-10f9-4b6d-a3ee-fde6135c4c54"
      },
      "source": [
        "#!pip install request\n",
        "import urllib.request\n",
        "\n",
        "file = \"swiss42.tsp\"\n",
        "urllib.request.urlretrieve(\"http://elib.zib.de/pub/mp-testdata/tsp/tsplib/tsp/swiss42.tsp\", file)"
      ],
      "execution_count": null,
      "outputs": [
        {
          "output_type": "execute_result",
          "data": {
            "text/plain": [
              "('swiss42.tsp', <http.client.HTTPMessage at 0x7f2fdbb160f0>)"
            ]
          },
          "metadata": {
            "tags": []
          },
          "execution_count": 2
        }
      ]
    },
    {
      "cell_type": "code",
      "metadata": {
        "id": "8r_Mi2UhGHu6",
        "colab_type": "code",
        "colab": {}
      },
      "source": [
        "#!pip install tsplib95\n",
        "import tsplib95 \n",
        "import random\n",
        "import math\n",
        "from math import e, inf\n",
        "\n",
        "problem = tsplib95.load(file)\n",
        "Nodos = list(problem.get_nodes())\n",
        "Aristas = list(problem.get_edges())"
      ],
      "execution_count": null,
      "outputs": []
    },
    {
      "cell_type": "code",
      "metadata": {
        "id": "b8pDGwOeGH9c",
        "colab_type": "code",
        "colab": {
          "base_uri": "https://localhost:8080/",
          "height": 34
        },
        "outputId": "cb05c56d-3a4d-435c-f5e6-805851dd2f65"
      },
      "source": [
        "#se genera una solucion aleatoria con comienzo en el nodo 0\n",
        "def crear_solucion(Nodos):\n",
        "  solucion = [Nodos[0]]\n",
        "  for i in Nodos[1:]:\n",
        "    solucion = solucion + [random.choice(list(set(Nodos) - set({Nodos[0]}) - set(solucion)))]\n",
        "  return solucion\n",
        "\n",
        "#devuelve la distancia entre dos nodos\n",
        "def distancia(a, b, problem):\n",
        "  return problem.get_weight(a, b)\n",
        "\n",
        "#devuelve la distancia total de una trayectoria/solucion\n",
        "def distancia_total(solucion, problem):\n",
        "  distancia_total = 0\n",
        "  for i in range(len(solucion)-1):\n",
        "    distancia_total += distancia(solucion[i], solucion[i+1], problem)\n",
        "\n",
        "  return distancia_total + distancia(solucion[len(solucion) -1], solucion[0], problem)\n",
        "\n",
        "s = crear_solucion(Nodos)\n",
        "distancia_total(s, problem)"
      ],
      "execution_count": null,
      "outputs": [
        {
          "output_type": "execute_result",
          "data": {
            "text/plain": [
              "4424"
            ]
          },
          "metadata": {
            "tags": []
          },
          "execution_count": 50
        }
      ]
    },
    {
      "cell_type": "code",
      "metadata": {
        "id": "8oigv6g4Hxrf",
        "colab_type": "code",
        "colab": {
          "base_uri": "https://localhost:8080/",
          "height": 34
        },
        "outputId": "b1d1dd4e-3d36-4ea2-b766-3ebc598eb4cf"
      },
      "source": [
        "#busqueda aleatoria\n",
        "def busqueda_aleatoria(problem, N):\n",
        "  mejor_solucion = []\n",
        "  mejor_distancia = inf\n",
        "\n",
        "  for i in range(N):\n",
        "    solucion = crear_solucion(Nodos)\n",
        "    distancia = distancia_total(solucion, problem)\n",
        "\n",
        "    if distancia < mejor_distancia:\n",
        "      mejor_solucion = solucion\n",
        "      mejor_distancia = distancia\n",
        "  \n",
        "  return mejor_solucion\n",
        "\n",
        "s = busqueda_aleatoria(problem, 100)\n",
        "print(distancia_total(s, problem), s)"
      ],
      "execution_count": null,
      "outputs": [
        {
          "output_type": "stream",
          "text": [
            "4113 [0, 28, 7, 17, 13, 21, 20, 35, 32, 15, 31, 38, 6, 22, 10, 37, 1, 3, 25, 41, 39, 23, 12, 18, 11, 2, 26, 27, 5, 34, 4, 36, 14, 9, 40, 24, 29, 8, 30, 16, 33, 19]\n"
          ],
          "name": "stdout"
        }
      ]
    },
    {
      "cell_type": "code",
      "metadata": {
        "id": "WB6jhEc3IVHL",
        "colab_type": "code",
        "colab": {}
      },
      "source": [
        "#busqueda vecina\n",
        "def genera_vecina(solucion, problem):\n",
        "  #Generador de soluciones vecinas: 2-opt (intercambiar 2 nodos) si hay N nodos se generan (N-1)x(N-2)/2 soluciones\n",
        "  mejor_solucion = []\n",
        "  mejor_distancia = 10e10\n",
        "\n",
        "  for i in range(1, len(solucion)-1):\n",
        "    for j in range(i+1, len(solucion)):\n",
        "      vecina = solucion[:i] + [solucion[j]] + solucion[i+1:j] + [solucion[i]] + solucion[j+1:]\n",
        "      distancia_vecina = distancia_total(vecina, problem)\n",
        "\n",
        "      if distancia_vecina < mejor_distancia:\n",
        "        mejor_solucion = vecina\n",
        "        mejor_distancia = distancia_vecina\n",
        "  \n",
        "  return mejor_solucion\n",
        "\n",
        "  s1 = crear_solucion(Nodos)\n",
        "  s2 = genera_vecina(s1, problem)\n",
        "\n",
        "  print(distancia_total(s1, problem), s1)\n",
        "  print(distancia_total(s2, problem), s2)\n"
      ],
      "execution_count": null,
      "outputs": []
    },
    {
      "cell_type": "code",
      "metadata": {
        "id": "9Y3z3YTqJHH5",
        "colab_type": "code",
        "colab": {
          "base_uri": "https://localhost:8080/",
          "height": 765
        },
        "outputId": "4f4fcff9-84dc-42d4-c62d-47f947edd829"
      },
      "source": [
        "#busqueda local\n",
        "def busqueda_local(problem):\n",
        "  solucion_referencia = crear_solucion(Nodos)\n",
        "  mejor_distancia = 10e10\n",
        "\n",
        "  iteracion=0\n",
        "  while(1):\n",
        "    iteracion+=1\n",
        "    vecina = genera_vecina(solucion_referencia, problem)\n",
        "    distancia_vecina = distancia_total(vecina, problem)\n",
        "\n",
        "    if distancia_vecina < mejor_distancia:\n",
        "      mejor_solucion = vecina\n",
        "      mejor_distancia = distancia_vecina\n",
        "    else:\n",
        "      print(\"En la iteracion \"+ str(iteracion) +\" encontramos la solucion \" + str(mejor_distancia) )\n",
        "      print(mejor_solucion)\n",
        "      return mejor_solucion\n",
        "\n",
        "    solucion_referencia = vecina\n",
        "\n",
        "busqueda_local(problem)"
      ],
      "execution_count": null,
      "outputs": [
        {
          "output_type": "stream",
          "text": [
            "En la iteracion 41 encontramos la solucion 1756\n",
            "[0, 7, 14, 19, 13, 11, 12, 18, 26, 5, 16, 15, 6, 4, 10, 25, 41, 23, 39, 22, 38, 33, 35, 36, 37, 17, 31, 20, 34, 32, 27, 28, 30, 21, 24, 40, 9, 8, 29, 2, 3, 1]\n"
          ],
          "name": "stdout"
        },
        {
          "output_type": "execute_result",
          "data": {
            "text/plain": [
              "[0,\n",
              " 7,\n",
              " 14,\n",
              " 19,\n",
              " 13,\n",
              " 11,\n",
              " 12,\n",
              " 18,\n",
              " 26,\n",
              " 5,\n",
              " 16,\n",
              " 15,\n",
              " 6,\n",
              " 4,\n",
              " 10,\n",
              " 25,\n",
              " 41,\n",
              " 23,\n",
              " 39,\n",
              " 22,\n",
              " 38,\n",
              " 33,\n",
              " 35,\n",
              " 36,\n",
              " 37,\n",
              " 17,\n",
              " 31,\n",
              " 20,\n",
              " 34,\n",
              " 32,\n",
              " 27,\n",
              " 28,\n",
              " 30,\n",
              " 21,\n",
              " 24,\n",
              " 40,\n",
              " 9,\n",
              " 8,\n",
              " 29,\n",
              " 2,\n",
              " 3,\n",
              " 1]"
            ]
          },
          "metadata": {
            "tags": []
          },
          "execution_count": 53
        }
      ]
    },
    {
      "cell_type": "code",
      "metadata": {
        "id": "TtrFDL0_K8V0",
        "colab_type": "code",
        "colab": {
          "base_uri": "https://localhost:8080/",
          "height": 34
        },
        "outputId": "dc0d8c62-0f0b-4c62-d1bf-f2e2c1ea160a"
      },
      "source": [
        "#genera vecina aleatoria\n",
        "def genera_vecina_aleatoria(solucion):\n",
        "  #generador de 1 solucion vecina 2-opt aleatoria (intercambiar 2 nodos)\n",
        "  #se eligen dos nodos aleatoriamente\n",
        "  i,j = sorted(random.sample(range(1, len(solucion)), 2))\n",
        "  return solucion[:i] + [solucion[j]] + solucion[i+1:j] + [solucion[i]] + solucion[j+1:]\n",
        "\n",
        "def bajar_temperatura(T):\n",
        "  return T*0.99\n",
        "\n",
        "def probabilidad(T,d):\n",
        "  return random.random() < math.exp(-1*d / T)\n",
        "  \n",
        "probabilidad(0.0001, 100)\n"
      ],
      "execution_count": null,
      "outputs": [
        {
          "output_type": "execute_result",
          "data": {
            "text/plain": [
              "False"
            ]
          },
          "metadata": {
            "tags": []
          },
          "execution_count": 54
        }
      ]
    },
    {
      "cell_type": "code",
      "metadata": {
        "id": "DD9Or7HQR4Jp",
        "colab_type": "code",
        "colab": {
          "base_uri": "https://localhost:8080/",
          "height": 51
        },
        "outputId": "f55669e6-cc73-48b5-ce6f-b14ae5bedb4e"
      },
      "source": [
        "import copy\n",
        "\n",
        "def recocido_simulado(problem, TEMPERATURA=1000):\n",
        "  #problem = datos del problema\n",
        "  solucion_referencia = crear_solucion(Nodos)\n",
        "  distancia_referencia = distancia_total(solucion_referencia, problem)\n",
        "\n",
        "  mejor_solucion = []\n",
        "  mejor_distancia = 10e100\n",
        "\n",
        "  N=0\n",
        "  while TEMPERATURA > .0001:\n",
        "    N+=1\n",
        "    #Genera una solucion vecina\n",
        "    vecina = genera_vecina_aleatoria(solucion_referencia)\n",
        "\n",
        "    #calcula su valor(distancia)\n",
        "    distancia_vecina = distancia_total(vecina, problem)\n",
        "\n",
        "    #si es la mejor solucion de todas se guarda\n",
        "    if distancia_vecina < mejor_distancia:\n",
        "      mejor_solucion = vecina\n",
        "      mejor_distancia = distancia_vecina\n",
        "\n",
        "    #Si la nueva vecina es mejor se cambia\n",
        "    #Si es peor se cambia segun una probabilidad que depende de T y delta(distancia_referencia - distancia_vecina)\n",
        "    if distancia_vecina < distancia_referencia or probabilidad(TEMPERATURA, abs(distancia_referencia - distancia_vecina)):\n",
        "      solucion_referencia = copy.deepcopy(vecina)\n",
        "      distancia_referencia = distancia_vecina\n",
        "\n",
        "    #bajamos la temperatura\n",
        "    TEMPERATURA = bajar_temperatura(TEMPERATURA)\n",
        "\n",
        "  print(\"La mejor solucion encontrada es \", end=\"\")\n",
        "  print(mejor_solucion)\n",
        "  print(\"con una distancia total de \", end=\"\")\n",
        "  print(mejor_distancia)\n",
        "  return mejor_solucion\n",
        "\n",
        "sol = recocido_simulado(problem, 1000000)"
      ],
      "execution_count": null,
      "outputs": [
        {
          "output_type": "stream",
          "text": [
            "La mejor solucion encontrada es [0, 28, 29, 8, 10, 41, 23, 40, 24, 21, 9, 6, 5, 15, 37, 17, 31, 33, 38, 22, 39, 30, 34, 14, 16, 19, 13, 26, 12, 25, 11, 18, 2, 27, 3, 4, 1, 7, 36, 35, 20, 32]\n",
            "con una distancia total de 1967\n"
          ],
          "name": "stdout"
        }
      ]
    },
    {
      "cell_type": "markdown",
      "metadata": {
        "id": "oG7bSoY_XSog",
        "colab_type": "text"
      },
      "source": [
        "##Algoritmo de colonia de hormigas\n",
        "\n",
        "La función Add_Nodo selecciona al azar un nodo con probabilidad uniforme.\n",
        "Para ser mas eficiente debería seleccionar el próximo nodo siguiendo la probabilidad correspondiente a la ecuación:\n",
        "\n",
        "$p^k_{ij}(t) = \\frac{[\\tau_{ij}(t)]^\\alpha[\\nu_{ij}]^\\beta}{\\sum_{l\\in J^k_i} [\\tau_{il}(t)]^\\alpha[\\nu_{il}]^\\beta}$, si $j \\in J^k_i$\n",
        "\n",
        "$p^k_{ij}(t) = 0$, si $j \\notin J^k_i$"
      ]
    },
    {
      "cell_type": "code",
      "metadata": {
        "id": "95CCuELfXBAq",
        "colab_type": "code",
        "colab": {
          "base_uri": "https://localhost:8080/",
          "height": 51
        },
        "outputId": "f44c1e64-1fa8-45ec-a308-7263ea11f28b"
      },
      "source": [
        "#funciones auxiliares\n",
        "def Add_Nodo(problem, H, T):\n",
        "  #mejora: establecer una funcion de probabilidad para añadir un nuevo nodo dependiendo de los nodos mas cercanos y de las feromonas depositadas\n",
        "  Nodos = list(problem.get_nodes())\n",
        "  return random.choice(list(set(range(1, len(Nodos))) - set(H) ))\n",
        "\n",
        "def Incrementa_Feromona(problem, T, H):\n",
        "  #incrementa segun la calidad de la solucion, añadir una cantidad inversamente proporcional a la distancia total\n",
        "  for i in range(len(H)-1):\n",
        "    T[H[i]][H[i+1]] += 1000/distancia_total(H, problem)\n",
        "  return T\n",
        "\n",
        "def Evaporar_Feromonas(T):\n",
        "  #evapora 0.3 el valor de la feromona, sin que baje de 1\n",
        "  #mejora: podemos elegir diferentes funciones de evaporacion dependiendo de la cantidad actual y de la suma total de feromonas depositadas...\n",
        "  T = [[max(T[i][j] - 0.3, 1) for i in range(len(Nodos)) ] for j in range(len(Nodos)) ]\n",
        "  return T\n",
        "\n",
        "#funcion hormigas\n",
        "def hormigas(problem, N):\n",
        "  #problem = datos del problema\n",
        "  #N = Numero de agentes(hormigas)\n",
        "\n",
        "  #Nodos\n",
        "  Nodos = list(problem.get_nodes())\n",
        "  #Aristas \n",
        "  Aristas = list(problem.get_edges())\n",
        "\n",
        "  #inicializa las aristas con una cantidad inicial de feromonas:1\n",
        "  #mejora: inicializar con valores diferentes dependiento diferentes criterios\n",
        "  T = [[1 for _ in range(len(Nodos)) ] for _ in range(len(Nodos))]\n",
        "\n",
        "  #se generan los agentes(hormigas) que seran estructuras de caminos desde 0\n",
        "  Hormiga = [[0] for _ in range(N)]\n",
        "\n",
        "  #recorre cada agente construyendo la solucion\n",
        "  for h in range(N):\n",
        "    #para cada agente se construye un camino\n",
        "    for i in range(len(Nodos)-1):\n",
        "\n",
        "      #elige el siguiente nodo\n",
        "      Nuevo_Nodo = Add_Nodo(problem, Hormiga[h], T)\n",
        "      Hormiga[h].append(Nuevo_Nodo)\n",
        "\n",
        "    #incrementa feromonas en esa arista\n",
        "    T = Incrementa_Feromona(problem, T, Hormiga[h])\n",
        "\n",
        "    #Evapora Feromona\n",
        "    T = Evaporar_Feromonas(T)\n",
        "\n",
        "  #seleccionamos el mejor agente\n",
        "  mejor_solucion = []\n",
        "  mejor_distancia = 10e100\n",
        "  for h in range(N):\n",
        "    distancia_actual = distancia_total(Hormiga[h], problem)\n",
        "    if distancia_actual < mejor_distancia:\n",
        "      mejor_solucion = Hormiga[h]\n",
        "      mejor_distancia = distancia_actual\n",
        "\n",
        "  print(mejor_solucion)\n",
        "  print(mejor_distancia)\n",
        "\n",
        "hormigas(problem, 1000)"
      ],
      "execution_count": null,
      "outputs": [
        {
          "output_type": "stream",
          "text": [
            "[0, 39, 9, 6, 17, 37, 4, 22, 34, 24, 3, 30, 7, 38, 33, 21, 27, 18, 16, 36, 15, 14, 13, 26, 31, 35, 5, 32, 23, 11, 12, 25, 10, 1, 2, 40, 41, 29, 20, 28, 8, 19]\n",
            "3954\n"
          ],
          "name": "stdout"
        }
      ]
    },
    {
      "cell_type": "markdown",
      "metadata": {
        "id": "5cw02boR14Gn",
        "colab_type": "text"
      },
      "source": [
        "#### Actividad Individual\n",
        "\n",
        "- Iterar, generar nuevas hormigas con la inforamción de las feromonas\n",
        "- Función de probabilidad para elegir el siguiente nodo(parámetros α y β)"
      ]
    },
    {
      "cell_type": "code",
      "metadata": {
        "id": "kp8tJ85D6bDn",
        "colab_type": "code",
        "colab": {}
      },
      "source": [
        ""
      ],
      "execution_count": null,
      "outputs": []
    }
  ]
}