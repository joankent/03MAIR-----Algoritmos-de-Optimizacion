# Nombre: Joan Alonzo Machado Domínguez
# https://colab.research.google.com/drive/1UpKsKmxxud-ynEf1n_96i5hLwGr479cy?usp=sharing
# Actividad Guiada 1

#Torres de Hanoi

def Torres_Hanoi(N, desde, hasta):
  if N==1:
    print("Mueve desde la " + str(desde) + " hasta " + str(hasta))
  else:
    Torres_Hanoi(N-1, desde, 6-hasta-desde)
    print("Mueve desde la " + str(desde) + " hasta " + str(hasta))
    Torres_Hanoi(N-1, 6-hasta-desde, hasta)

Torres_Hanoi(4, 1, 3)

#Sistema monetario 

Sistema_Monetario = [25, 10, 5, 1]

def cambio_monedas(N, Sistema_Monetario):
  ValorAcumulado = 0
  SOL = [0]*len(Sistema_Monetario)

  for i,m in enumerate(Sistema_Monetario):
    monedas = (N-ValorAcumulado)//m
    ValorAcumulado = ValorAcumulado + monedas*m
    SOL[1] = monedas

    if ValorAcumulado == N:
      return SOL

  return SOL

cambio_monedas(124, Sistema_Monetario)


